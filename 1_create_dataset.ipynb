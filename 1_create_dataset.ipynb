{
 "cells": [
  {
   "cell_type": "code",
   "execution_count": 1,
   "id": "ec6a784a",
   "metadata": {},
   "outputs": [
    {
     "name": "stdout",
     "output_type": "stream",
     "text": [
      "dataset laoded.....\n",
      "==========>\n",
      "dataset saved.....\n",
      "==========>\n",
      "[' anoth blueprint sampl contribut day test blueprint mbean gener complex blueprint sampl sampl user learn defin nest compon blueprint xml run sampl besid osgi framework bundl requir coreopt mavenbundl groupid org apach felix artifactid org apach felix configadmin versionasinproject coreopt mavenbundl groupid org apach felix artifactid org apach felix eventadmin versionasinproject coreopt mavenbundl groupid org ops4j pax log artifactid pax log api versionasinproject coreopt mavenbundl groupid org ops4j pax log artifactid pax log servic versionasinproject coreopt mavenbundl groupid org apach ari blueprint artifactid org apach ari blueprint versionasinproject coreopt mavenbundl groupid org apach ari artifactid org apach ari util coreopt mavenbundl groupid org apach ari jmx artifactid ari jmx blueprint versionasinproject', 0]\n"
     ]
    }
   ],
   "source": [
    "import pandas as pd\n",
    "import pickle\n",
    "\n",
    "if __name__ == '__main__':\n",
    "\n",
    "    f = open('./dataset/final_dataset.pickle', 'rb')\n",
    "    dataset = pickle.load(f)\n",
    "    f.close()\n",
    "    print(\"dataset laoded.....\")\n",
    "    print('==========>')\n",
    "\n",
    "\n",
    "    binary_class_dataset = []\n",
    "    for index in range(len(dataset)):\n",
    "        task = []\n",
    "        task.append(dataset[index][0])\n",
    "        if str(dataset[index][1][0]).strip() == 'none':\n",
    "            ref = 0\n",
    "        else:\n",
    "            ref = 1\n",
    "        task.append(ref)\n",
    "\n",
    "        binary_class_dataset.append(task)\n",
    "\n",
    "    f = open('./dataset/binary_class_dataset.pickle', 'wb')\n",
    "    pickle.dump(binary_class_dataset,f)\n",
    "    f.close()\n",
    "    print(\"dataset saved.....\")\n",
    "    print('==========>')\n",
    "\n",
    "    print(binary_class_dataset[0])"
   ]
  },
  {
   "cell_type": "code",
   "execution_count": null,
   "id": "98ec3a3b",
   "metadata": {},
   "outputs": [],
   "source": []
  }
 ],
 "metadata": {
  "kernelspec": {
   "display_name": "Python 3 (ipykernel)",
   "language": "python",
   "name": "python3"
  },
  "language_info": {
   "codemirror_mode": {
    "name": "ipython",
    "version": 3
   },
   "file_extension": ".py",
   "mimetype": "text/x-python",
   "name": "python",
   "nbconvert_exporter": "python",
   "pygments_lexer": "ipython3",
   "version": "3.9.13"
  }
 },
 "nbformat": 4,
 "nbformat_minor": 5
}
